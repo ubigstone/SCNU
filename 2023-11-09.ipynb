{
 "cells": [
  {
   "cell_type": "code",
   "execution_count": 1,
   "id": "f7e43cdb",
   "metadata": {},
   "outputs": [
    {
     "data": {
      "text/plain": [
       "{'kor': 80, 'math': 90, 'eng': 75}"
      ]
     },
     "execution_count": 1,
     "metadata": {},
     "output_type": "execute_result"
    }
   ],
   "source": [
    "scores = {\"kor\": 80,\"math\":90, \"eng\":75}\n",
    "scores"
   ]
  },
  {
   "cell_type": "code",
   "execution_count": 3,
   "id": "d8fbc8a5",
   "metadata": {},
   "outputs": [
    {
     "data": {
      "text/plain": [
       "{'kor': 80, 'math': 90, 'eng': 75, 'ds': 95}"
      ]
     },
     "execution_count": 3,
     "metadata": {},
     "output_type": "execute_result"
    }
   ],
   "source": [
    "scores[\"ds\"]=95\n",
    "scores"
   ]
  },
  {
   "cell_type": "code",
   "execution_count": 4,
   "id": "f4fe2f29",
   "metadata": {},
   "outputs": [
    {
     "ename": "KeyError",
     "evalue": "('math', 'eng')",
     "output_type": "error",
     "traceback": [
      "\u001b[1;31m---------------------------------------------------------------------------\u001b[0m",
      "\u001b[1;31mKeyError\u001b[0m                                  Traceback (most recent call last)",
      "Cell \u001b[1;32mIn[4], line 1\u001b[0m\n\u001b[1;32m----> 1\u001b[0m \u001b[43mscores\u001b[49m\u001b[43m[\u001b[49m\u001b[38;5;124;43m\"\u001b[39;49m\u001b[38;5;124;43mmath\u001b[39;49m\u001b[38;5;124;43m\"\u001b[39;49m\u001b[43m,\u001b[49m\u001b[38;5;124;43m\"\u001b[39;49m\u001b[38;5;124;43meng\u001b[39;49m\u001b[38;5;124;43m\"\u001b[39;49m\u001b[43m]\u001b[49m\n",
      "\u001b[1;31mKeyError\u001b[0m: ('math', 'eng')"
     ]
    }
   ],
   "source": [
    "scores[\"math\",\"eng\"]"
   ]
  },
  {
   "cell_type": "code",
   "execution_count": 5,
   "id": "5eb3e525",
   "metadata": {},
   "outputs": [
    {
     "data": {
      "text/plain": [
       "dict_keys(['kor', 'math', 'eng', 'ds'])"
      ]
     },
     "execution_count": 5,
     "metadata": {},
     "output_type": "execute_result"
    }
   ],
   "source": [
    "scores.keys()"
   ]
  },
  {
   "cell_type": "code",
   "execution_count": 6,
   "id": "37c53e7d",
   "metadata": {},
   "outputs": [
    {
     "data": {
      "text/plain": [
       "dict_values([80, 90, 75, 95])"
      ]
     },
     "execution_count": 6,
     "metadata": {},
     "output_type": "execute_result"
    }
   ],
   "source": [
    "scores.values()"
   ]
  },
  {
   "cell_type": "code",
   "execution_count": 8,
   "id": "c3da082c",
   "metadata": {},
   "outputs": [
    {
     "data": {
      "text/plain": [
       "dict_items([('kor', 80), ('math', 90), ('eng', 75), ('ds', 95)])"
      ]
     },
     "execution_count": 8,
     "metadata": {},
     "output_type": "execute_result"
    }
   ],
   "source": [
    "scores.items()"
   ]
  },
  {
   "cell_type": "code",
   "execution_count": 9,
   "id": "ac1c3aa9",
   "metadata": {},
   "outputs": [
    {
     "ename": "KeyError",
     "evalue": "'computer'",
     "output_type": "error",
     "traceback": [
      "\u001b[1;31m---------------------------------------------------------------------------\u001b[0m",
      "\u001b[1;31mKeyError\u001b[0m                                  Traceback (most recent call last)",
      "Cell \u001b[1;32mIn[9], line 1\u001b[0m\n\u001b[1;32m----> 1\u001b[0m \u001b[43mscores\u001b[49m\u001b[43m[\u001b[49m\u001b[38;5;124;43m\"\u001b[39;49m\u001b[38;5;124;43mcomputer\u001b[39;49m\u001b[38;5;124;43m\"\u001b[39;49m\u001b[43m]\u001b[49m\n",
      "\u001b[1;31mKeyError\u001b[0m: 'computer'"
     ]
    }
   ],
   "source": [
    "scores[\"computer\"]"
   ]
  },
  {
   "cell_type": "code",
   "execution_count": 10,
   "id": "a6093a1b",
   "metadata": {},
   "outputs": [
    {
     "name": "stdout",
     "output_type": "stream",
     "text": [
      "95\n"
     ]
    }
   ],
   "source": [
    "print(scores.get(\"ds\"))"
   ]
  },
  {
   "cell_type": "code",
   "execution_count": 11,
   "id": "1ef9d691",
   "metadata": {},
   "outputs": [
    {
     "name": "stdout",
     "output_type": "stream",
     "text": [
      "None\n"
     ]
    }
   ],
   "source": [
    "print(scores.get(\"computer\"))"
   ]
  },
  {
   "cell_type": "code",
   "execution_count": 12,
   "id": "fc0d8ae9",
   "metadata": {},
   "outputs": [
    {
     "data": {
      "text/plain": [
       "95"
      ]
     },
     "execution_count": 12,
     "metadata": {},
     "output_type": "execute_result"
    }
   ],
   "source": [
    "scores.pop(\"ds\")"
   ]
  },
  {
   "cell_type": "code",
   "execution_count": 13,
   "id": "59978c23",
   "metadata": {},
   "outputs": [
    {
     "data": {
      "text/plain": [
       "{'kor': 80, 'math': 90, 'eng': 75}"
      ]
     },
     "execution_count": 13,
     "metadata": {},
     "output_type": "execute_result"
    }
   ],
   "source": [
    "scores"
   ]
  },
  {
   "cell_type": "code",
   "execution_count": 14,
   "id": "743e0c88",
   "metadata": {},
   "outputs": [
    {
     "data": {
      "text/plain": [
       "('eng', 75)"
      ]
     },
     "execution_count": 14,
     "metadata": {},
     "output_type": "execute_result"
    }
   ],
   "source": [
    "scores.popitem() #맨뒤에 값을 pop 함"
   ]
  },
  {
   "cell_type": "code",
   "execution_count": 15,
   "id": "0f3d3b9e",
   "metadata": {},
   "outputs": [
    {
     "data": {
      "text/plain": [
       "{'kor': 80, 'math': 90}"
      ]
     },
     "execution_count": 15,
     "metadata": {},
     "output_type": "execute_result"
    }
   ],
   "source": [
    "scores"
   ]
  },
  {
   "cell_type": "code",
   "execution_count": 16,
   "id": "e919e39f",
   "metadata": {},
   "outputs": [],
   "source": [
    "scores.clear()"
   ]
  },
  {
   "cell_type": "code",
   "execution_count": 17,
   "id": "6eb296ca",
   "metadata": {},
   "outputs": [
    {
     "data": {
      "text/plain": [
       "{}"
      ]
     },
     "execution_count": 17,
     "metadata": {},
     "output_type": "execute_result"
    }
   ],
   "source": [
    "scores"
   ]
  },
  {
   "cell_type": "code",
   "execution_count": 18,
   "id": "84a622d6",
   "metadata": {},
   "outputs": [],
   "source": [
    "scores={'kor': 80, 'math': 90, 'eng': 75, 'ds': 95}"
   ]
  },
  {
   "cell_type": "code",
   "execution_count": 19,
   "id": "24ede7de",
   "metadata": {},
   "outputs": [
    {
     "data": {
      "text/plain": [
       "['ds', 'eng', 'kor', 'math']"
      ]
     },
     "execution_count": 19,
     "metadata": {},
     "output_type": "execute_result"
    }
   ],
   "source": [
    "sorted(scores)"
   ]
  },
  {
   "cell_type": "code",
   "execution_count": 25,
   "id": "d4673bae",
   "metadata": {},
   "outputs": [
    {
     "data": {
      "text/plain": [
       "{'ds': 95, 'eng': 75, 'kor': 80, 'math': 90}"
      ]
     },
     "execution_count": 25,
     "metadata": {},
     "output_type": "execute_result"
    }
   ],
   "source": [
    "sorted_scores={}\n",
    "for k in sorted(scores):\n",
    "    sorted_scores[k] = scores[k]\n",
    "    \n",
    "sorted_scores"
   ]
  },
  {
   "cell_type": "code",
   "execution_count": 28,
   "id": "3222d4d8",
   "metadata": {},
   "outputs": [
    {
     "data": {
      "text/plain": [
       "{'math': 90, 'kor': 80, 'eng': 75, 'ds': 95}"
      ]
     },
     "execution_count": 28,
     "metadata": {},
     "output_type": "execute_result"
    }
   ],
   "source": [
    "{k: scores[k] for k in sorted(scores,reverse=True)}"
   ]
  },
  {
   "cell_type": "code",
   "execution_count": 31,
   "id": "934de941",
   "metadata": {},
   "outputs": [
    {
     "data": {
      "text/plain": [
       "dict_items([('kor', 80), ('math', 90), ('eng', 75), ('ds', 95)])"
      ]
     },
     "execution_count": 31,
     "metadata": {},
     "output_type": "execute_result"
    }
   ],
   "source": [
    "scores.items()"
   ]
  },
  {
   "cell_type": "code",
   "execution_count": 32,
   "id": "4e49ecfe",
   "metadata": {},
   "outputs": [
    {
     "data": {
      "text/plain": [
       "[('eng', 75), ('kor', 80), ('math', 90), ('ds', 95)]"
      ]
     },
     "execution_count": 32,
     "metadata": {},
     "output_type": "execute_result"
    }
   ],
   "source": [
    "def ref(x):\n",
    "    return x[1]\n",
    "\n",
    "sorted(scores.items(),key=ref)"
   ]
  },
  {
   "cell_type": "code",
   "execution_count": 33,
   "id": "b490b234",
   "metadata": {},
   "outputs": [
    {
     "data": {
      "text/plain": [
       "{'eng': 75, 'kor': 80, 'math': 90, 'ds': 95}"
      ]
     },
     "execution_count": 33,
     "metadata": {},
     "output_type": "execute_result"
    }
   ],
   "source": [
    "{k:v for k, v in sorted(scores.items(),key=ref)}"
   ]
  },
  {
   "cell_type": "code",
   "execution_count": 37,
   "id": "219c3c32",
   "metadata": {},
   "outputs": [
    {
     "data": {
      "text/plain": [
       "[('eng', 75), ('kor', 80), ('math', 90), ('ds', 95)]"
      ]
     },
     "execution_count": 37,
     "metadata": {},
     "output_type": "execute_result"
    }
   ],
   "source": [
    "sorted(scores.items(),key=lambda x:x[1])"
   ]
  },
  {
   "cell_type": "code",
   "execution_count": 34,
   "id": "af089792",
   "metadata": {},
   "outputs": [
    {
     "data": {
      "text/plain": [
       "2"
      ]
     },
     "execution_count": 34,
     "metadata": {},
     "output_type": "execute_result"
    }
   ],
   "source": [
    "(lambda x: x[1])([1,2,3])"
   ]
  },
  {
   "cell_type": "code",
   "execution_count": 35,
   "id": "903d3073",
   "metadata": {},
   "outputs": [
    {
     "data": {
      "text/plain": [
       "15"
      ]
     },
     "execution_count": 35,
     "metadata": {},
     "output_type": "execute_result"
    }
   ],
   "source": [
    "(lambda x, y : x*y )(3,5)"
   ]
  },
  {
   "cell_type": "code",
   "execution_count": 38,
   "id": "a3f3328f",
   "metadata": {},
   "outputs": [],
   "source": [
    "def mult(x,y):\n",
    "    return x*y"
   ]
  },
  {
   "cell_type": "code",
   "execution_count": null,
   "id": "01112fb2",
   "metadata": {},
   "outputs": [
    {
     "name": "stdout",
     "output_type": "stream",
     "text": [
      "메뉴를 선택하세요 1)재고조회, 2)입고, 3)출고, 4)종료 5\n",
      "메뉴를 다시 선택하세요 1)재고조회, 2)입고, 3)출고, 4)종료 6\n"
     ]
    }
   ],
   "source": [
    "items = {\"coffee\": 7 ,\"coke\": 3, \"book\": 5, \"milk\": 4}\n",
    "while True:\n",
    "    menu=input(\"메뉴를 선택하세요 1)재고조회, 2)입고, 3)출고, 4)종료 \")\n",
    "    if menu == \"1\":\n",
    "        item = input(\"[재고조회] 물건의 이름을 입력하시오 : \")\n",
    "        print(f\"{item}는 {items[item]}개 남았습니다. \")\n",
    "    elif menu == \"2\":\n",
    "        string = input(\"[입고] 물건의 이름과 수량을 입력하시오 : \")\n",
    "        item, value= string.split()\n",
    "        items[item]+=int(value)\n",
    "        print(f\"{item}의 재고 : {items[item]}\")\n",
    "    elif menu == \"3\":\n",
    "        string = input(\"[출고] 물건의 이름과 수량을 입력하시오 : \")\n",
    "        item, value= string.split()\n",
    "        items[item]-=int(value)\n",
    "        print(f\"{item}의 재고 : {items[item]}\")\n",
    "    elif menu==\"4\":\n",
    "        break     "
   ]
  },
  {
   "cell_type": "code",
   "execution_count": 1,
   "id": "5f43a36a",
   "metadata": {},
   "outputs": [
    {
     "data": {
      "text/plain": [
       "['abc', 'def']"
      ]
     },
     "execution_count": 1,
     "metadata": {},
     "output_type": "execute_result"
    }
   ],
   "source": [
    "string = \"abc def\"\n",
    "string.split()"
   ]
  },
  {
   "cell_type": "code",
   "execution_count": 2,
   "id": "a3e44efa",
   "metadata": {},
   "outputs": [
    {
     "data": {
      "text/plain": [
       "['abc ', ' def']"
      ]
     },
     "execution_count": 2,
     "metadata": {},
     "output_type": "execute_result"
    }
   ],
   "source": [
    "string = \"abc : def\"\n",
    "string.split(\":\")"
   ]
  },
  {
   "cell_type": "code",
   "execution_count": 3,
   "id": "37c42ce3",
   "metadata": {},
   "outputs": [
    {
     "data": {
      "text/plain": [
       "'abc'"
      ]
     },
     "execution_count": 3,
     "metadata": {},
     "output_type": "execute_result"
    }
   ],
   "source": [
    "\" abc \".strip()"
   ]
  },
  {
   "cell_type": "code",
   "execution_count": 4,
   "id": "8c5a38d9",
   "metadata": {},
   "outputs": [],
   "source": [
    "a_set = {1,2,3}"
   ]
  },
  {
   "cell_type": "code",
   "execution_count": 5,
   "id": "4942d2bc",
   "metadata": {},
   "outputs": [
    {
     "data": {
      "text/plain": [
       "{1, 2, 3}"
      ]
     },
     "execution_count": 5,
     "metadata": {},
     "output_type": "execute_result"
    }
   ],
   "source": [
    "a_set"
   ]
  },
  {
   "cell_type": "code",
   "execution_count": 6,
   "id": "9ef85b86",
   "metadata": {},
   "outputs": [
    {
     "data": {
      "text/plain": [
       "{1, 2, 3}"
      ]
     },
     "execution_count": 6,
     "metadata": {},
     "output_type": "execute_result"
    }
   ],
   "source": [
    "{1,2,3,1,2,3}"
   ]
  },
  {
   "cell_type": "code",
   "execution_count": 7,
   "id": "52a25cb5",
   "metadata": {},
   "outputs": [],
   "source": [
    "a_set.add(5)"
   ]
  },
  {
   "cell_type": "code",
   "execution_count": 8,
   "id": "24c93802",
   "metadata": {},
   "outputs": [
    {
     "data": {
      "text/plain": [
       "{1, 2, 3, 5}"
      ]
     },
     "execution_count": 8,
     "metadata": {},
     "output_type": "execute_result"
    }
   ],
   "source": [
    "a_set"
   ]
  },
  {
   "cell_type": "code",
   "execution_count": 16,
   "id": "724699bb",
   "metadata": {},
   "outputs": [
    {
     "data": {
      "text/plain": [
       "{1, 2, 3, 5, 'abc'}"
      ]
     },
     "execution_count": 16,
     "metadata": {},
     "output_type": "execute_result"
    }
   ],
   "source": [
    "a_set.add(\"abc\")\n",
    "a_set"
   ]
  },
  {
   "cell_type": "code",
   "execution_count": 10,
   "id": "7aeb9277",
   "metadata": {},
   "outputs": [
    {
     "data": {
      "text/plain": [
       "{1, 2, 3}"
      ]
     },
     "execution_count": 10,
     "metadata": {},
     "output_type": "execute_result"
    }
   ],
   "source": [
    "set([1,2,3])"
   ]
  },
  {
   "cell_type": "code",
   "execution_count": 11,
   "id": "f61fd79f",
   "metadata": {},
   "outputs": [
    {
     "data": {
      "text/plain": [
       "True"
      ]
     },
     "execution_count": 11,
     "metadata": {},
     "output_type": "execute_result"
    }
   ],
   "source": [
    "3 in a_set"
   ]
  },
  {
   "cell_type": "code",
   "execution_count": 13,
   "id": "b2187ce6",
   "metadata": {},
   "outputs": [
    {
     "name": "stdout",
     "output_type": "stream",
     "text": [
      "1 2 3 5 abc "
     ]
    }
   ],
   "source": [
    "for i in a_set:\n",
    "    print(i,end=\" \")"
   ]
  },
  {
   "cell_type": "code",
   "execution_count": 17,
   "id": "a8f6f458",
   "metadata": {},
   "outputs": [
    {
     "data": {
      "text/plain": [
       "{1, 2, 3, 5}"
      ]
     },
     "execution_count": 17,
     "metadata": {},
     "output_type": "execute_result"
    }
   ],
   "source": [
    "a_set.remove(\"abc\")\n",
    "a_set"
   ]
  },
  {
   "cell_type": "code",
   "execution_count": 18,
   "id": "f4c5ef5c",
   "metadata": {},
   "outputs": [
    {
     "data": {
      "text/plain": [
       "True"
      ]
     },
     "execution_count": 18,
     "metadata": {},
     "output_type": "execute_result"
    }
   ],
   "source": [
    "A={1,2,3}\n",
    "B={1,2,3}\n",
    "\n",
    "A==B"
   ]
  },
  {
   "cell_type": "code",
   "execution_count": 19,
   "id": "559b2520",
   "metadata": {},
   "outputs": [
    {
     "data": {
      "text/plain": [
       "False"
      ]
     },
     "execution_count": 19,
     "metadata": {},
     "output_type": "execute_result"
    }
   ],
   "source": [
    "A!=B"
   ]
  },
  {
   "cell_type": "code",
   "execution_count": 20,
   "id": "199ccf87",
   "metadata": {},
   "outputs": [
    {
     "data": {
      "text/plain": [
       "False"
      ]
     },
     "execution_count": 20,
     "metadata": {},
     "output_type": "execute_result"
    }
   ],
   "source": [
    "a_set = {1,0,2,3,3}\n",
    "all(a_set)\n"
   ]
  },
  {
   "cell_type": "code",
   "execution_count": 21,
   "id": "8a9f4827",
   "metadata": {},
   "outputs": [
    {
     "data": {
      "text/plain": [
       "True"
      ]
     },
     "execution_count": 21,
     "metadata": {},
     "output_type": "execute_result"
    }
   ],
   "source": [
    "any(a_set)"
   ]
  },
  {
   "cell_type": "code",
   "execution_count": 22,
   "id": "9f64e6db",
   "metadata": {},
   "outputs": [
    {
     "data": {
      "text/plain": [
       "{1, 2, 3, 4, 5}"
      ]
     },
     "execution_count": 22,
     "metadata": {},
     "output_type": "execute_result"
    }
   ],
   "source": [
    "A={1,2,3}\n",
    "B={3,4,5}\n",
    "A|B"
   ]
  },
  {
   "cell_type": "code",
   "execution_count": 23,
   "id": "0e2710a2",
   "metadata": {},
   "outputs": [
    {
     "data": {
      "text/plain": [
       "{1, 2, 3, 4, 5}"
      ]
     },
     "execution_count": 23,
     "metadata": {},
     "output_type": "execute_result"
    }
   ],
   "source": [
    "A.union(B)"
   ]
  },
  {
   "cell_type": "code",
   "execution_count": 24,
   "id": "2058036e",
   "metadata": {},
   "outputs": [
    {
     "data": {
      "text/plain": [
       "{3}"
      ]
     },
     "execution_count": 24,
     "metadata": {},
     "output_type": "execute_result"
    }
   ],
   "source": [
    "A&B"
   ]
  },
  {
   "cell_type": "code",
   "execution_count": 25,
   "id": "908670c8",
   "metadata": {},
   "outputs": [
    {
     "data": {
      "text/plain": [
       "{3}"
      ]
     },
     "execution_count": 25,
     "metadata": {},
     "output_type": "execute_result"
    }
   ],
   "source": [
    "A.intersection(B)"
   ]
  },
  {
   "cell_type": "code",
   "execution_count": 26,
   "id": "15e6b1ef",
   "metadata": {},
   "outputs": [
    {
     "data": {
      "text/plain": [
       "{1, 2}"
      ]
     },
     "execution_count": 26,
     "metadata": {},
     "output_type": "execute_result"
    }
   ],
   "source": [
    "A-B"
   ]
  },
  {
   "cell_type": "code",
   "execution_count": 27,
   "id": "e1095ab9",
   "metadata": {},
   "outputs": [
    {
     "data": {
      "text/plain": [
       "{4, 5}"
      ]
     },
     "execution_count": 27,
     "metadata": {},
     "output_type": "execute_result"
    }
   ],
   "source": [
    "B-A"
   ]
  },
  {
   "cell_type": "code",
   "execution_count": 30,
   "id": "cf3fcf59",
   "metadata": {},
   "outputs": [
    {
     "data": {
      "text/plain": [
       "{1, 2}"
      ]
     },
     "execution_count": 30,
     "metadata": {},
     "output_type": "execute_result"
    }
   ],
   "source": [
    "A.difference(B)"
   ]
  },
  {
   "cell_type": "code",
   "execution_count": 31,
   "id": "1ce3849a",
   "metadata": {},
   "outputs": [
    {
     "data": {
      "text/plain": [
       "{4, 5}"
      ]
     },
     "execution_count": 31,
     "metadata": {},
     "output_type": "execute_result"
    }
   ],
   "source": [
    "B.difference(A)"
   ]
  },
  {
   "cell_type": "code",
   "execution_count": 29,
   "id": "fb048473",
   "metadata": {},
   "outputs": [
    {
     "data": {
      "text/plain": [
       "{1, 2, 4, 5}"
      ]
     },
     "execution_count": 29,
     "metadata": {},
     "output_type": "execute_result"
    }
   ],
   "source": [
    "A^B #여집합"
   ]
  },
  {
   "cell_type": "code",
   "execution_count": 32,
   "id": "88d39a41",
   "metadata": {},
   "outputs": [],
   "source": [
    "partyA=set([\"Park\", \"Kim\", \"Lee\"])\n",
    "partyB=set([\"Park\", \"Choi\"])"
   ]
  },
  {
   "cell_type": "code",
   "execution_count": 35,
   "id": "747ae067",
   "metadata": {},
   "outputs": [
    {
     "name": "stdout",
     "output_type": "stream",
     "text": [
      "파티 A,B에 참석한 사람들 :  {'Kim', 'Park', 'Lee', 'Choi'}\n"
     ]
    }
   ],
   "source": [
    "print(\"파티 A,B에 참석한 사람들 : \", partyA|partyB)"
   ]
  },
  {
   "cell_type": "code",
   "execution_count": 36,
   "id": "66cb3658",
   "metadata": {},
   "outputs": [
    {
     "name": "stdout",
     "output_type": "stream",
     "text": [
      "파티 A,B에 중복없이 참석한 사람들 :  {'Kim', 'Choi', 'Lee'}\n"
     ]
    }
   ],
   "source": [
    "print(\"파티 A,B에 중복없이 참석한 사람들 : \", partyA^partyB)"
   ]
  },
  {
   "cell_type": "code",
   "execution_count": 37,
   "id": "c43d4101",
   "metadata": {},
   "outputs": [
    {
     "name": "stdout",
     "output_type": "stream",
     "text": [
      "파티 A에만 참석한 사람들 :  {'Kim', 'Lee'}\n"
     ]
    }
   ],
   "source": [
    "print(\"파티 A에만 참석한 사람들 : \", partyA-partyB)"
   ]
  },
  {
   "cell_type": "code",
   "execution_count": 44,
   "id": "59db780e",
   "metadata": {},
   "outputs": [],
   "source": [
    "f=open(\"hello.txt\",'w')\n",
    "f.write('hello python!!!\\n')\n",
    "f.write('I love python...')\n",
    "f.close()"
   ]
  },
  {
   "cell_type": "code",
   "execution_count": 46,
   "id": "97dfad76",
   "metadata": {},
   "outputs": [
    {
     "data": {
      "text/plain": [
       "'hello python!!!\\nI love python...'"
      ]
     },
     "execution_count": 46,
     "metadata": {},
     "output_type": "execute_result"
    }
   ],
   "source": [
    "f=open(\"hello.txt\",'r')\n",
    "data = f.read()\n",
    "f.close()\n",
    "\n",
    "data"
   ]
  },
  {
   "cell_type": "code",
   "execution_count": 48,
   "id": "1437f75d",
   "metadata": {},
   "outputs": [],
   "source": [
    "with open(\"hello.txt\",'w')as f:\n",
    "    f.write(\"I am studying python....\")"
   ]
  },
  {
   "cell_type": "code",
   "execution_count": null,
   "id": "723c18b4",
   "metadata": {},
   "outputs": [],
   "source": []
  }
 ],
 "metadata": {
  "kernelspec": {
   "display_name": "Python 3 (ipykernel)",
   "language": "python",
   "name": "python3"
  },
  "language_info": {
   "codemirror_mode": {
    "name": "ipython",
    "version": 3
   },
   "file_extension": ".py",
   "mimetype": "text/x-python",
   "name": "python",
   "nbconvert_exporter": "python",
   "pygments_lexer": "ipython3",
   "version": "3.11.2"
  }
 },
 "nbformat": 4,
 "nbformat_minor": 5
}
